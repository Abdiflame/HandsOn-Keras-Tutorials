{
 "cells": [
  {
   "cell_type": "code",
   "execution_count": 1,
   "metadata": {},
   "outputs": [
    {
     "name": "stderr",
     "output_type": "stream",
     "text": [
      "Using TensorFlow backend.\n"
     ]
    }
   ],
   "source": [
    "import numpy as np\n",
    "from keras.datasets import mnist\n",
    "from keras.models import Sequential\n",
    "from keras.layers.core import Dense, Dropout, Activation\n",
    "from keras.utils import np_utils\n",
    "import matplotlib.pyplot as plt"
   ]
  },
  {
   "cell_type": "code",
   "execution_count": 10,
   "metadata": {},
   "outputs": [],
   "source": [
    "np.random.seed(16) # for reproducibility\n",
    "\n",
    "# network and training\n",
    "NB_EPOCH = 15\n",
    "BATCH_SIZE = 128\n",
    "VERBOSE = 1\n",
    "NB_CLASSES = 10 # number of digits\n",
    "N_HIDDEN = 256\n",
    "VALIDATION_SPLIT = 0.2 # train and validation\n",
    "DROPOUT = 0.20\n",
    "RESHAPED = 784 # 28 X 28\n",
    "\n",
    "# data: shuffle and split between train and test sets\n",
    "(X_train, y_train), (X_test, y_test) = mnist.load_data()"
   ]
  },
  {
   "cell_type": "code",
   "execution_count": 11,
   "metadata": {},
   "outputs": [
    {
     "name": "stdout",
     "output_type": "stream",
     "text": [
      "(60000, 784)\n",
      "(10000, 784)\n"
     ]
    }
   ],
   "source": [
    "X_train = X_train.reshape(60000, RESHAPED)\n",
    "X_test = X_test.reshape(10000, RESHAPED)\n",
    "X_train = X_train.astype('float32')\n",
    "X_test = X_test.astype('float32')\n",
    "print(X_train.shape)\n",
    "print(X_test.shape)\n",
    "\n",
    "# normalize \n",
    "X_train /= 255\n",
    "X_test /= 255\n",
    "\n",
    "# convert class vectors to binary class matrices\n",
    "Y_train = np_utils.to_categorical(y_train, NB_CLASSES)\n",
    "Y_test = np_utils.to_categorical(y_test, NB_CLASSES)"
   ]
  },
  {
   "cell_type": "code",
   "execution_count": 12,
   "metadata": {},
   "outputs": [
    {
     "name": "stdout",
     "output_type": "stream",
     "text": [
      "_________________________________________________________________\n",
      "Layer (type)                 Output Shape              Param #   \n",
      "=================================================================\n",
      "dense_4 (Dense)              (None, 512)               401920    \n",
      "_________________________________________________________________\n",
      "dropout_3 (Dropout)          (None, 512)               0         \n",
      "_________________________________________________________________\n",
      "dense_5 (Dense)              (None, 256)               131328    \n",
      "_________________________________________________________________\n",
      "dropout_4 (Dropout)          (None, 256)               0         \n",
      "_________________________________________________________________\n",
      "dense_6 (Dense)              (None, 10)                2570      \n",
      "=================================================================\n",
      "Total params: 535,818\n",
      "Trainable params: 535,818\n",
      "Non-trainable params: 0\n",
      "_________________________________________________________________\n"
     ]
    }
   ],
   "source": [
    "# M_HIDDEN hidden layers\n",
    "# 10 outputs\n",
    "# final stage is softmax\n",
    "\n",
    "model = Sequential()\n",
    "model.add(Dense(512, input_shape=(RESHAPED,),activation = 'relu'))\n",
    "model.add(Dropout(DROPOUT))\n",
    "model.add(Dense(N_HIDDEN, activation = 'relu'))\n",
    "model.add(Dropout(DROPOUT))\n",
    "model.add(Dense(NB_CLASSES, activation = 'softmax'))\n",
    "model.summary()\n",
    "\n",
    "model.compile(loss='categorical_crossentropy', optimizer='Adadelta', metrics=['accuracy'])"
   ]
  },
  {
   "cell_type": "code",
   "execution_count": 13,
   "metadata": {},
   "outputs": [
    {
     "name": "stdout",
     "output_type": "stream",
     "text": [
      "Train on 48000 samples, validate on 12000 samples\n",
      "Epoch 1/15\n",
      "48000/48000 [==============================] - 7s 156us/step - loss: 0.3360 - acc: 0.8993 - val_loss: 0.1477 - val_acc: 0.9564\n",
      "Epoch 2/15\n",
      "48000/48000 [==============================] - 7s 153us/step - loss: 0.1353 - acc: 0.9596 - val_loss: 0.1003 - val_acc: 0.9689\n",
      "Epoch 3/15\n",
      "48000/48000 [==============================] - 7s 150us/step - loss: 0.0926 - acc: 0.9720 - val_loss: 0.0881 - val_acc: 0.9727\n",
      "Epoch 4/15\n",
      "48000/48000 [==============================] - 7s 149us/step - loss: 0.0726 - acc: 0.9779 - val_loss: 0.0760 - val_acc: 0.9766\n",
      "Epoch 5/15\n",
      "48000/48000 [==============================] - 7s 153us/step - loss: 0.0580 - acc: 0.9817 - val_loss: 0.0804 - val_acc: 0.9757\n",
      "Epoch 6/15\n",
      "48000/48000 [==============================] - 7s 155us/step - loss: 0.0465 - acc: 0.9854 - val_loss: 0.0735 - val_acc: 0.9799\n",
      "Epoch 7/15\n",
      "48000/48000 [==============================] - 8s 171us/step - loss: 0.0375 - acc: 0.9881 - val_loss: 0.0741 - val_acc: 0.9783\n",
      "Epoch 8/15\n",
      "48000/48000 [==============================] - 8s 172us/step - loss: 0.0325 - acc: 0.9901 - val_loss: 0.0759 - val_acc: 0.9795\n",
      "Epoch 9/15\n",
      "48000/48000 [==============================] - 8s 158us/step - loss: 0.0283 - acc: 0.9910 - val_loss: 0.0752 - val_acc: 0.9797\n",
      "Epoch 10/15\n",
      "48000/48000 [==============================] - 8s 157us/step - loss: 0.0235 - acc: 0.9923 - val_loss: 0.0725 - val_acc: 0.9815\n",
      "Epoch 11/15\n",
      "48000/48000 [==============================] - 7s 151us/step - loss: 0.0202 - acc: 0.9934 - val_loss: 0.0798 - val_acc: 0.9804\n",
      "Epoch 12/15\n",
      "48000/48000 [==============================] - 7s 151us/step - loss: 0.0183 - acc: 0.9940 - val_loss: 0.0783 - val_acc: 0.9794\n",
      "Epoch 13/15\n",
      "48000/48000 [==============================] - 7s 148us/step - loss: 0.0153 - acc: 0.9952 - val_loss: 0.0760 - val_acc: 0.9819\n",
      "Epoch 14/15\n",
      "48000/48000 [==============================] - 7s 154us/step - loss: 0.0149 - acc: 0.9953 - val_loss: 0.0742 - val_acc: 0.9818\n",
      "Epoch 15/15\n",
      "48000/48000 [==============================] - 7s 153us/step - loss: 0.0135 - acc: 0.9954 - val_loss: 0.0740 - val_acc: 0.9834\n"
     ]
    }
   ],
   "source": [
    "fit_model = model.fit(X_train, Y_train, batch_size=BATCH_SIZE, epochs=NB_EPOCH, verbose=VERBOSE, validation_split=VALIDATION_SPLIT)"
   ]
  },
  {
   "cell_type": "code",
   "execution_count": 14,
   "metadata": {},
   "outputs": [
    {
     "name": "stdout",
     "output_type": "stream",
     "text": [
      "10000/10000 [==============================] - 0s 44us/step\n",
      "\n",
      "Test score: 0.060674647980308874\n",
      "Test accuracy: 0.983\n",
      "dict_keys(['val_loss', 'val_acc', 'loss', 'acc'])\n"
     ]
    }
   ],
   "source": [
    "score = model.evaluate(X_test, Y_test, verbose=VERBOSE)\n",
    "print(\"\\nTest score:\", score[0])\n",
    "print('Test accuracy:', score[1])\n",
    "\n",
    "# list all data in history\n",
    "print(fit_model.history.keys())"
   ]
  },
  {
   "cell_type": "code",
   "execution_count": 15,
   "metadata": {},
   "outputs": [
    {
     "data": {
      "image/png": "[encoded data removed]",
      "text/plain": [
       "<Figure size 432x288 with 1 Axes>"
      ]
     },
     "metadata": {
      "needs_background": "light"
     },
     "output_type": "display_data"
    },
    {
     "data": {
      "image/png": "[encoded data removed]",
      "text/plain": [
       "<Figure size 432x288 with 1 Axes>"
      ]
     },
     "metadata": {
      "needs_background": "light"
     },
     "output_type": "display_data"
    }
   ],
   "source": [
    "# summarize history for accuracy\n",
    "plt.plot(fit_model.history['acc'])\n",
    "plt.plot(fit_model.history['val_acc'])\n",
    "plt.title('model accuracy')\n",
    "plt.ylabel('accuracy')\n",
    "plt.xlabel('epoch')\n",
    "plt.legend(['train', 'test'], loc='upper left')\n",
    "plt.show()\n",
    "\n",
    "# summarize history for loss\n",
    "plt.plot(fit_model.history['loss'])\n",
    "plt.plot(fit_model.history['val_loss'])\n",
    "plt.title('model loss')\n",
    "plt.ylabel('loss')\n",
    "plt.xlabel('epoch')\n",
    "plt.legend(['train', 'test'], loc='upper left')\n",
    "plt.show()"
   ]
  },
  {
   "cell_type": "code",
   "execution_count": null,
   "metadata": {},
   "outputs": [],
   "source": []
  }
 ],
 "metadata": {
  "kernelspec": {
   "display_name": "Python 3",
   "language": "python",
   "name": "python3"
  },
  "language_info": {
   "codemirror_mode": {
    "name": "ipython",
    "version": 3
   },
   "file_extension": ".py",
   "mimetype": "text/x-python",
   "name": "python",
   "nbconvert_exporter": "python",
   "pygments_lexer": "ipython3",
   "version": "3.6.8"
  }
 },
 "nbformat": 4,
 "nbformat_minor": 2
}
